{
 "cells": [
  {
   "cell_type": "markdown",
   "metadata": {},
   "source": [
    "### Tutorial for DBN\n",
    "This tutorial illustrates how the DBN framework can be used."
   ]
  },
  {
   "cell_type": "markdown",
   "metadata": {},
   "source": [
    "imports"
   ]
  },
  {
   "cell_type": "code",
   "execution_count": 1,
   "metadata": {},
   "outputs": [],
   "source": [
    "import numpy as np\n",
    "import matplotlib.pyplot as plt\n",
    "from delaybuffernetwork import DelayBufferNetwork\n",
    "from generate_dbn_schedule import *"
   ]
  },
  {
   "cell_type": "markdown",
   "metadata": {},
   "source": [
    "Next we generate a schedule. Here we choose to have 100 agents, with two agent types; a and b. Each event has to have 2 agents of type a, and 2 agents of type b."
   ]
  },
  {
   "cell_type": "code",
   "execution_count": 2,
   "metadata": {},
   "outputs": [],
   "source": [
    "n_agents = 100\n",
    "agents = np.arange(0, n_agents).tolist()\n",
    "agent_types = [\"a\", \"b\"] # agent types\n",
    "event_rules = [2, 2] # number of agents for each agent type per event\n",
    "events_per_timestep = 10 # events per timestep\n",
    "\n",
    "# Number of agents in an event per time step = sum(event_rules) * events_per_timestep = 40. Sparsity = 60%\n",
    "\n",
    "time_range = (0, 100) \n",
    "time_step = 1\n",
    "\n",
    "schedule = generate_dbn_schedule(100, agent_types, time_range, time_step, event_rules, events_per_timestep, randomness_events=False, randomness_rule=False)\n"
   ]
  },
  {
   "cell_type": "markdown",
   "metadata": {},
   "source": [
    "With our schedule we can build a DBN. First we will use the DF framework.\n",
    "\n",
    "We build a DBN object, add exponential noise as delay, uniform buffers of size 1, and then we process.\n",
    "\n",
    "We extract the time range from the df, along with the mean agent delay over time, which we then plot.\n",
    "\n",
    "Finally we print the df for inspection"
   ]
  },
  {
   "cell_type": "code",
   "execution_count": 3,
   "metadata": {},
   "outputs": [
    {
     "name": "stderr",
     "output_type": "stream",
     "text": [
      "100%|██████████| 1000/1000 [00:04<00:00, 230.57it/s]\n"
     ]
    },
    {
     "data": {
      "image/png": "[encoded data removed]",
      "text/plain": [
       "<Figure size 432x288 with 1 Axes>"
      ]
     },
     "metadata": {
      "needs_background": "light"
     },
     "output_type": "display_data"
    },
    {
     "data": {
      "text/html": [
       "<div>\n",
       "<style scoped>\n",
       "    .dataframe tbody tr th:only-of-type {\n",
       "        vertical-align: middle;\n",
       "    }\n",
       "\n",
       "    .dataframe tbody tr th {\n",
       "        vertical-align: top;\n",
       "    }\n",
       "\n",
       "    .dataframe thead th {\n",
       "        text-align: right;\n",
       "    }\n",
       "</style>\n",
       "<table border=\"1\" class=\"dataframe\">\n",
       "  <thead>\n",
       "    <tr style=\"text-align: right;\">\n",
       "      <th></th>\n",
       "      <th>i</th>\n",
       "      <th>j</th>\n",
       "      <th>t</th>\n",
       "      <th>weight</th>\n",
       "      <th>event_id</th>\n",
       "      <th>buffer</th>\n",
       "      <th>delay</th>\n",
       "      <th>agent_0_delay</th>\n",
       "      <th>agent_1_delay</th>\n",
       "      <th>agent_2_delay</th>\n",
       "      <th>...</th>\n",
       "      <th>agent_91_delay_realtime</th>\n",
       "      <th>agent_92_delay_realtime</th>\n",
       "      <th>agent_93_delay_realtime</th>\n",
       "      <th>agent_94_delay_realtime</th>\n",
       "      <th>agent_95_delay_realtime</th>\n",
       "      <th>agent_96_delay_realtime</th>\n",
       "      <th>agent_97_delay_realtime</th>\n",
       "      <th>agent_98_delay_realtime</th>\n",
       "      <th>agent_99_delay_realtime</th>\n",
       "      <th>current_event_delay</th>\n",
       "    </tr>\n",
       "  </thead>\n",
       "  <tbody>\n",
       "    <tr>\n",
       "      <th>0</th>\n",
       "      <td>42</td>\n",
       "      <td>19</td>\n",
       "      <td>0</td>\n",
       "      <td>0.25</td>\n",
       "      <td>0</td>\n",
       "      <td>1</td>\n",
       "      <td>2.841160</td>\n",
       "      <td>0.0000</td>\n",
       "      <td>2.566107</td>\n",
       "      <td>0.359026</td>\n",
       "      <td>...</td>\n",
       "      <td>0</td>\n",
       "      <td>0</td>\n",
       "      <td>0</td>\n",
       "      <td>0</td>\n",
       "      <td>0</td>\n",
       "      <td>0</td>\n",
       "      <td>0</td>\n",
       "      <td>0</td>\n",
       "      <td>0</td>\n",
       "      <td>2.841160</td>\n",
       "    </tr>\n",
       "    <tr>\n",
       "      <th>1</th>\n",
       "      <td>42</td>\n",
       "      <td>98</td>\n",
       "      <td>0</td>\n",
       "      <td>0.25</td>\n",
       "      <td>0</td>\n",
       "      <td>1</td>\n",
       "      <td>2.841160</td>\n",
       "      <td>0.0000</td>\n",
       "      <td>2.566107</td>\n",
       "      <td>0.359026</td>\n",
       "      <td>...</td>\n",
       "      <td>0</td>\n",
       "      <td>0</td>\n",
       "      <td>0</td>\n",
       "      <td>0</td>\n",
       "      <td>0</td>\n",
       "      <td>0</td>\n",
       "      <td>0</td>\n",
       "      <td>0</td>\n",
       "      <td>0</td>\n",
       "      <td>2.841160</td>\n",
       "    </tr>\n",
       "    <tr>\n",
       "      <th>2</th>\n",
       "      <td>42</td>\n",
       "      <td>87</td>\n",
       "      <td>0</td>\n",
       "      <td>0.25</td>\n",
       "      <td>0</td>\n",
       "      <td>1</td>\n",
       "      <td>2.841160</td>\n",
       "      <td>0.0000</td>\n",
       "      <td>2.566107</td>\n",
       "      <td>0.359026</td>\n",
       "      <td>...</td>\n",
       "      <td>0</td>\n",
       "      <td>0</td>\n",
       "      <td>0</td>\n",
       "      <td>0</td>\n",
       "      <td>0</td>\n",
       "      <td>0</td>\n",
       "      <td>0</td>\n",
       "      <td>0</td>\n",
       "      <td>0</td>\n",
       "      <td>2.841160</td>\n",
       "    </tr>\n",
       "    <tr>\n",
       "      <th>3</th>\n",
       "      <td>19</td>\n",
       "      <td>42</td>\n",
       "      <td>0</td>\n",
       "      <td>0.25</td>\n",
       "      <td>0</td>\n",
       "      <td>1</td>\n",
       "      <td>2.841160</td>\n",
       "      <td>0.0000</td>\n",
       "      <td>2.566107</td>\n",
       "      <td>0.359026</td>\n",
       "      <td>...</td>\n",
       "      <td>0</td>\n",
       "      <td>0</td>\n",
       "      <td>0</td>\n",
       "      <td>0</td>\n",
       "      <td>0</td>\n",
       "      <td>0</td>\n",
       "      <td>0</td>\n",
       "      <td>0</td>\n",
       "      <td>0</td>\n",
       "      <td>2.841160</td>\n",
       "    </tr>\n",
       "    <tr>\n",
       "      <th>4</th>\n",
       "      <td>19</td>\n",
       "      <td>98</td>\n",
       "      <td>0</td>\n",
       "      <td>0.25</td>\n",
       "      <td>0</td>\n",
       "      <td>1</td>\n",
       "      <td>2.841160</td>\n",
       "      <td>0.0000</td>\n",
       "      <td>2.566107</td>\n",
       "      <td>0.359026</td>\n",
       "      <td>...</td>\n",
       "      <td>0</td>\n",
       "      <td>0</td>\n",
       "      <td>0</td>\n",
       "      <td>0</td>\n",
       "      <td>0</td>\n",
       "      <td>0</td>\n",
       "      <td>0</td>\n",
       "      <td>0</td>\n",
       "      <td>0</td>\n",
       "      <td>2.841160</td>\n",
       "    </tr>\n",
       "    <tr>\n",
       "      <th>...</th>\n",
       "      <td>...</td>\n",
       "      <td>...</td>\n",
       "      <td>...</td>\n",
       "      <td>...</td>\n",
       "      <td>...</td>\n",
       "      <td>...</td>\n",
       "      <td>...</td>\n",
       "      <td>...</td>\n",
       "      <td>...</td>\n",
       "      <td>...</td>\n",
       "      <td>...</td>\n",
       "      <td>...</td>\n",
       "      <td>...</td>\n",
       "      <td>...</td>\n",
       "      <td>...</td>\n",
       "      <td>...</td>\n",
       "      <td>...</td>\n",
       "      <td>...</td>\n",
       "      <td>...</td>\n",
       "      <td>...</td>\n",
       "      <td>...</td>\n",
       "    </tr>\n",
       "    <tr>\n",
       "      <th>11995</th>\n",
       "      <td>84</td>\n",
       "      <td>65</td>\n",
       "      <td>99</td>\n",
       "      <td>0.25</td>\n",
       "      <td>999</td>\n",
       "      <td>1</td>\n",
       "      <td>1.182235</td>\n",
       "      <td>91.7829</td>\n",
       "      <td>95.035589</td>\n",
       "      <td>94.786525</td>\n",
       "      <td>...</td>\n",
       "      <td>0</td>\n",
       "      <td>0</td>\n",
       "      <td>0</td>\n",
       "      <td>0</td>\n",
       "      <td>0</td>\n",
       "      <td>0</td>\n",
       "      <td>0</td>\n",
       "      <td>0</td>\n",
       "      <td>0</td>\n",
       "      <td>95.179948</td>\n",
       "    </tr>\n",
       "    <tr>\n",
       "      <th>11996</th>\n",
       "      <td>84</td>\n",
       "      <td>11</td>\n",
       "      <td>99</td>\n",
       "      <td>0.25</td>\n",
       "      <td>999</td>\n",
       "      <td>1</td>\n",
       "      <td>1.182235</td>\n",
       "      <td>91.7829</td>\n",
       "      <td>95.035589</td>\n",
       "      <td>94.786525</td>\n",
       "      <td>...</td>\n",
       "      <td>0</td>\n",
       "      <td>0</td>\n",
       "      <td>0</td>\n",
       "      <td>0</td>\n",
       "      <td>0</td>\n",
       "      <td>0</td>\n",
       "      <td>0</td>\n",
       "      <td>0</td>\n",
       "      <td>0</td>\n",
       "      <td>95.179948</td>\n",
       "    </tr>\n",
       "    <tr>\n",
       "      <th>11997</th>\n",
       "      <td>11</td>\n",
       "      <td>95</td>\n",
       "      <td>99</td>\n",
       "      <td>0.25</td>\n",
       "      <td>999</td>\n",
       "      <td>1</td>\n",
       "      <td>1.182235</td>\n",
       "      <td>91.7829</td>\n",
       "      <td>95.035589</td>\n",
       "      <td>94.786525</td>\n",
       "      <td>...</td>\n",
       "      <td>0</td>\n",
       "      <td>0</td>\n",
       "      <td>0</td>\n",
       "      <td>0</td>\n",
       "      <td>0</td>\n",
       "      <td>0</td>\n",
       "      <td>0</td>\n",
       "      <td>0</td>\n",
       "      <td>0</td>\n",
       "      <td>95.179948</td>\n",
       "    </tr>\n",
       "    <tr>\n",
       "      <th>11998</th>\n",
       "      <td>11</td>\n",
       "      <td>65</td>\n",
       "      <td>99</td>\n",
       "      <td>0.25</td>\n",
       "      <td>999</td>\n",
       "      <td>1</td>\n",
       "      <td>1.182235</td>\n",
       "      <td>91.7829</td>\n",
       "      <td>95.035589</td>\n",
       "      <td>94.786525</td>\n",
       "      <td>...</td>\n",
       "      <td>0</td>\n",
       "      <td>0</td>\n",
       "      <td>0</td>\n",
       "      <td>0</td>\n",
       "      <td>0</td>\n",
       "      <td>0</td>\n",
       "      <td>0</td>\n",
       "      <td>0</td>\n",
       "      <td>0</td>\n",
       "      <td>95.179948</td>\n",
       "    </tr>\n",
       "    <tr>\n",
       "      <th>11999</th>\n",
       "      <td>11</td>\n",
       "      <td>84</td>\n",
       "      <td>99</td>\n",
       "      <td>0.25</td>\n",
       "      <td>999</td>\n",
       "      <td>1</td>\n",
       "      <td>1.182235</td>\n",
       "      <td>91.7829</td>\n",
       "      <td>95.035589</td>\n",
       "      <td>94.786525</td>\n",
       "      <td>...</td>\n",
       "      <td>0</td>\n",
       "      <td>0</td>\n",
       "      <td>0</td>\n",
       "      <td>0</td>\n",
       "      <td>0</td>\n",
       "      <td>0</td>\n",
       "      <td>0</td>\n",
       "      <td>0</td>\n",
       "      <td>0</td>\n",
       "      <td>95.179948</td>\n",
       "    </tr>\n",
       "  </tbody>\n",
       "</table>\n",
       "<p>12000 rows × 208 columns</p>\n",
       "</div>"
      ],
      "text/plain": [
       "        i   j   t  weight  event_id  buffer     delay  agent_0_delay  \\\n",
       "0      42  19   0    0.25         0       1  2.841160         0.0000   \n",
       "1      42  98   0    0.25         0       1  2.841160         0.0000   \n",
       "2      42  87   0    0.25         0       1  2.841160         0.0000   \n",
       "3      19  42   0    0.25         0       1  2.841160         0.0000   \n",
       "4      19  98   0    0.25         0       1  2.841160         0.0000   \n",
       "...    ..  ..  ..     ...       ...     ...       ...            ...   \n",
       "11995  84  65  99    0.25       999       1  1.182235        91.7829   \n",
       "11996  84  11  99    0.25       999       1  1.182235        91.7829   \n",
       "11997  11  95  99    0.25       999       1  1.182235        91.7829   \n",
       "11998  11  65  99    0.25       999       1  1.182235        91.7829   \n",
       "11999  11  84  99    0.25       999       1  1.182235        91.7829   \n",
       "\n",
       "       agent_1_delay  agent_2_delay  ...  agent_91_delay_realtime  \\\n",
       "0           2.566107       0.359026  ...                        0   \n",
       "1           2.566107       0.359026  ...                        0   \n",
       "2           2.566107       0.359026  ...                        0   \n",
       "3           2.566107       0.359026  ...                        0   \n",
       "4           2.566107       0.359026  ...                        0   \n",
       "...              ...            ...  ...                      ...   \n",
       "11995      95.035589      94.786525  ...                        0   \n",
       "11996      95.035589      94.786525  ...                        0   \n",
       "11997      95.035589      94.786525  ...                        0   \n",
       "11998      95.035589      94.786525  ...                        0   \n",
       "11999      95.035589      94.786525  ...                        0   \n",
       "\n",
       "       agent_92_delay_realtime  agent_93_delay_realtime  \\\n",
       "0                            0                        0   \n",
       "1                            0                        0   \n",
       "2                            0                        0   \n",
       "3                            0                        0   \n",
       "4                            0                        0   \n",
       "...                        ...                      ...   \n",
       "11995                        0                        0   \n",
       "11996                        0                        0   \n",
       "11997                        0                        0   \n",
       "11998                        0                        0   \n",
       "11999                        0                        0   \n",
       "\n",
       "       agent_94_delay_realtime  agent_95_delay_realtime  \\\n",
       "0                            0                        0   \n",
       "1                            0                        0   \n",
       "2                            0                        0   \n",
       "3                            0                        0   \n",
       "4                            0                        0   \n",
       "...                        ...                      ...   \n",
       "11995                        0                        0   \n",
       "11996                        0                        0   \n",
       "11997                        0                        0   \n",
       "11998                        0                        0   \n",
       "11999                        0                        0   \n",
       "\n",
       "       agent_96_delay_realtime  agent_97_delay_realtime  \\\n",
       "0                            0                        0   \n",
       "1                            0                        0   \n",
       "2                            0                        0   \n",
       "3                            0                        0   \n",
       "4                            0                        0   \n",
       "...                        ...                      ...   \n",
       "11995                        0                        0   \n",
       "11996                        0                        0   \n",
       "11997                        0                        0   \n",
       "11998                        0                        0   \n",
       "11999                        0                        0   \n",
       "\n",
       "       agent_98_delay_realtime  agent_99_delay_realtime  current_event_delay  \n",
       "0                            0                        0             2.841160  \n",
       "1                            0                        0             2.841160  \n",
       "2                            0                        0             2.841160  \n",
       "3                            0                        0             2.841160  \n",
       "4                            0                        0             2.841160  \n",
       "...                        ...                      ...                  ...  \n",
       "11995                        0                        0            95.179948  \n",
       "11996                        0                        0            95.179948  \n",
       "11997                        0                        0            95.179948  \n",
       "11998                        0                        0            95.179948  \n",
       "11999                        0                        0            95.179948  \n",
       "\n",
       "[12000 rows x 208 columns]"
      ]
     },
     "execution_count": 3,
     "metadata": {},
     "output_type": "execute_result"
    }
   ],
   "source": [
    "dbn_df = DelayBufferNetwork(from_df=schedule, system=\"df\")\n",
    "dbn_df.add_delay(tau=1)\n",
    "dbn_df.add_event_buffer(buffer = 1, epsilon=0)\n",
    "dbn_df.process_delays(dynamic_topology=False, loading_bar=True)\n",
    "\n",
    "x = dbn_df.network[\"t\"]\n",
    "all_agent_delays = np.sum(dbn_df.network[dbn_df.all_agent_delays_array], axis = 1) / len(dbn_df.unique_agents)\n",
    "\n",
    "plt.plot(x, all_agent_delays, c=\"g\")\n",
    "\n",
    "plt.show()\n",
    "\n",
    "dbn_df.network"
   ]
  },
  {
   "cell_type": "markdown",
   "metadata": {},
   "source": [
    "Now we start with the Dict-based graph system. The process is less involved than the DF system."
   ]
  },
  {
   "cell_type": "code",
   "execution_count": 4,
   "metadata": {},
   "outputs": [
    {
     "name": "stderr",
     "output_type": "stream",
     "text": [
      "100%|██████████| 1000/1000 [00:00<00:00, 1550.09it/s]"
     ]
    },
    {
     "data": {
      "text/plain": [
       "[<matplotlib.lines.Line2D at 0x21bdca3e160>]"
      ]
     },
     "execution_count": 4,
     "metadata": {},
     "output_type": "execute_result"
    },
    {
     "data": {
      "image/png": "[encoded data removed]",
      "text/plain": [
       "<Figure size 432x288 with 1 Axes>"
      ]
     },
     "metadata": {
      "needs_background": "light"
     },
     "output_type": "display_data"
    },
    {
     "name": "stderr",
     "output_type": "stream",
     "text": [
      "100%|██████████| 1000/1000 [00:00<00:00, 1398.29it/s]\n"
     ]
    }
   ],
   "source": [
    "dbn_dict = DelayBufferNetwork(from_df=schedule, system=\"dict\")\n",
    "dbn_dict.add_delay(tau = 1)\n",
    "dbn_dict.add_event_buffer(buffer = 1, epsilon=0)\n",
    "dbn_dict.process_delays(dynamic_topology=False, loading_bar=True)\n",
    "\n",
    "plt.plot(dbn_dict.event_time_array[:, 1], dbn_dict.agent_delays.mean(axis=1), c=\"red\")"
   ]
  },
  {
   "cell_type": "markdown",
   "metadata": {},
   "source": [
    "Lastly, the array system."
   ]
  },
  {
   "cell_type": "code",
   "execution_count": 5,
   "metadata": {},
   "outputs": [
    {
     "name": "stderr",
     "output_type": "stream",
     "text": [
      "100%|██████████| 1000/1000 [00:00<00:00, 1601.16it/s]"
     ]
    },
    {
     "data": {
      "text/plain": [
       "[<matplotlib.lines.Line2D at 0x21bdcb329d0>]"
      ]
     },
     "execution_count": 5,
     "metadata": {},
     "output_type": "execute_result"
    },
    {
     "data": {
      "image/png": "[encoded data removed]",
      "text/plain": [
       "<Figure size 432x288 with 1 Axes>"
      ]
     },
     "metadata": {
      "needs_background": "light"
     },
     "output_type": "display_data"
    },
    {
     "name": "stderr",
     "output_type": "stream",
     "text": [
      "100%|██████████| 1000/1000 [00:00<00:00, 1358.39it/s]\n"
     ]
    }
   ],
   "source": [
    "dbn_array = DelayBufferNetwork(from_df=schedule, system=\"array\")\n",
    "dbn_array.add_delay(tau=1)\n",
    "dbn_array.add_event_buffer(buffer = 1, epsilon=0)\n",
    "dbn_array.process_delays(dynamic_topology=False, loading_bar=True)\n",
    "\n",
    "plt.plot(dbn_array.event_time_array[:, 1], dbn_array.agent_delays.mean(axis=1), c=\"b\")"
   ]
  },
  {
   "cell_type": "markdown",
   "metadata": {},
   "source": [
    "Let's try out the dynamic topology. In order to find the right delays at the right times we have to do some work. Dynamic topology causes events to take place at continuous time steps, and to find out when our events are delayed we need to add event delays to our event times. "
   ]
  },
  {
   "cell_type": "code",
   "execution_count": 16,
   "metadata": {},
   "outputs": [
    {
     "name": "stderr",
     "output_type": "stream",
     "text": [
      "100%|██████████| 1000/1000 [00:00<00:00, 1115.16it/s]"
     ]
    },
    {
     "name": "stdout",
     "output_type": "stream",
     "text": [
      "                 agents           t     delay  buffer  current_event_delay\n",
      "0.0    [19, 42, 98, 87]    1.126794  1.126794       1             1.126794\n",
      "1.0    [45, 78, 59, 89]    0.543806  0.543806       1             0.543806\n",
      "2.0     [36, 86, 24, 2]    0.833680  0.833680       1             0.833680\n",
      "3.0    [75, 97, 16, 85]    0.225632  0.225632       1             0.225632\n",
      "4.0      [1, 7, 58, 63]    0.230717  0.230717       1             0.230717\n",
      "...                 ...         ...       ...     ...                  ...\n",
      "995.0  [28, 32, 46, 59]  182.110624  0.828783       1            83.110624\n",
      "996.0  [45, 86, 58, 83]  184.625646  1.209623       1            85.625646\n",
      "997.0  [12, 66, 54, 63]  183.286828  0.384904       1            84.286828\n",
      "998.0  [42, 79, 98, 30]  184.220801  3.020578       1            85.220801\n",
      "999.0  [65, 95, 84, 11]  179.959344  0.030401       1            80.959344\n",
      "\n",
      "[1000 rows x 5 columns]\n"
     ]
    },
    {
     "data": {
      "text/plain": [
       "[<matplotlib.lines.Line2D at 0x21bdcd3a4f0>]"
      ]
     },
     "execution_count": 16,
     "metadata": {},
     "output_type": "execute_result"
    },
    {
     "data": {
      "image/png": "[encoded data removed]",
      "text/plain": [
       "<Figure size 432x288 with 1 Axes>"
      ]
     },
     "metadata": {
      "needs_background": "light"
     },
     "output_type": "display_data"
    },
    {
     "name": "stderr",
     "output_type": "stream",
     "text": [
      "100%|██████████| 1000/1000 [00:01<00:00, 978.00it/s] \n"
     ]
    }
   ],
   "source": [
    "dbn_dict = DelayBufferNetwork(from_df=schedule, system=\"dict\")\n",
    "dbn_dict.add_delay(tau = 1)\n",
    "dbn_dict.add_event_buffer(buffer = 1, epsilon=0)\n",
    "dbn_dict.process_delays(dynamic_topology=True, loading_bar=True)\n",
    "\n",
    "df = pd.DataFrame.from_dict(dbn_dict.event_dict, orient=\"index\")\n",
    "print(df)\n",
    "plt.plot(df[\"t\"], df[\"current_event_delay\"], c=\"red\")"
   ]
  },
  {
   "cell_type": "markdown",
   "metadata": {},
   "source": [
    "The time range is stretched because we allowed events to occur later if they are delayed. We can see that the total delay at the end of the simulation is slightly lower, this is because some connections are broken due to the delay, and thus less routes are possible. This causes less total delay spreading over the simulation."
   ]
  },
  {
   "cell_type": "markdown",
   "metadata": {},
   "source": []
  }
 ],
 "metadata": {
  "kernelspec": {
   "display_name": "Python 3",
   "language": "python",
   "name": "python3"
  },
  "language_info": {
   "codemirror_mode": {
    "name": "ipython",
    "version": 3
   },
   "file_extension": ".py",
   "mimetype": "text/x-python",
   "name": "python",
   "nbconvert_exporter": "python",
   "pygments_lexer": "ipython3",
   "version": "3.8.5"
  }
 },
 "nbformat": 4,
 "nbformat_minor": 2
}
